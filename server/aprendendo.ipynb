{
 "cells": [
  {
   "cell_type": "code",
   "execution_count": 1,
   "metadata": {},
   "outputs": [],
   "source": [
    "import csv\n",
    "from dataclasses import replace\n",
    "from importlib.resources import path\n",
    "import os\n",
    "from tkinter.tix import COLUMN\n",
    "import pandas as pd"
   ]
  },
  {
   "cell_type": "code",
   "execution_count": 6,
   "metadata": {},
   "outputs": [],
   "source": [
    "#cwd = os.getcwd()         \n",
    "##path_ = os.path.join('lista_csv.csv','server','lista_csv.csv')\n",
    "# with open(path_,encoding='utf-8') as f:\n",
    "#     reader = csv.reader(f)\n",
    "#     lista = list(reader)\n",
    "# return lista\n",
    "dicio = pd.read_csv('lista_csv.csv')\n",
    "dicio = dicio.rename(columns={'Unnamed: 0':'cod_questao'})\n",
    "    "
   ]
  },
  {
   "cell_type": "code",
   "execution_count": 10,
   "metadata": {},
   "outputs": [
    {
     "data": {
      "text/plain": [
       "array([' Liderança', ' Treinamento, Desenvolvimento e Educação (TDeE)',\n",
       "       ' Introdução ao Processo de Organização (Desenho Organizacional, Centralização, Descentralização)',\n",
       "       ' Motivação', ' Cultura Organizacional',\n",
       "       ' Gestão Estratégica de Pessoas e Planejamento Estratégico de Pessoas',\n",
       "       ' Grupos e equipes de trabalho', ' Desempenho',\n",
       "       ' Planejamento Estratégico',\n",
       "       ' Conceito, Princípios, Fundamentos e Evolução da Qualidade',\n",
       "       ' Processo de Controle e Avaliação',\n",
       "       ' Estratégia e vantagem competitiva',\n",
       "       ' Comunicação no processo de gestão', ' Gestão de Conflitos',\n",
       "       ' Gestão por Processos (BPM CBOK, Ciclo PDCA, 6 Sigma etc.)',\n",
       "       ' Processo organizacional e funções administrativas',\n",
       "       ' Indicadores de desempenho',\n",
       "       ' Qualidade no Atendimento ao Público', ' Governança Pública',\n",
       "       ' Diagnóstico de ambiente organizacional - Matriz SWOT',\n",
       "       ' Balanced Scorecard (BSC)', ' Accountability e Transparência',\n",
       "       ' Organização (Introdução à Administração)', ' Método 5S',\n",
       "       ' Introdução ao Processo de Planejamento (diretrizes, princípios, características, etapas, níveis)',\n",
       "       ' Organização do Trabalho e do Tempo',\n",
       "       ' Processo Decisório (Tomada de Decisão)',\n",
       "       ' Gestão por Competências', ' Governo Eletrônico',\n",
       "       ' Planejamento Operacional',\n",
       "       ' Administração gerencial (Nova Gestão Pública ou modelo pós-burocrático)',\n",
       "       ' A reforma gerencial no Brasil', ' Administração societal',\n",
       "       ' Diagrama de Pareto',\n",
       "       '  Introdução ao comportamento organizacional (definição e características)',\n",
       "       ' Novas Tecnologias e Tendências na Administração',\n",
       "       ' Excelência e qualidade nos Serviços Públicos (Gespública, MEGP)',\n",
       "       ' Gestão para Resultados',\n",
       "       ' Gestão da Inovação e Empreendedorismo',\n",
       "       ' Governança Corporativa', ' Noções introdutórias (OSM)',\n",
       "       ' Administração burocrática', ' A reforma burocrática no Brasil',\n",
       "       ' Tópico Mesclado de Modelos Teóricos de Gestão Pública',\n",
       "       ' Principais Teóricos - Gurus da Qualidade',\n",
       "       ' Outros Métodos e Ferramentas',\n",
       "       ' Tópico Mesclado de Métodos e Ferramentas',\n",
       "       ' Noções Introdutórias de Administração ou Gestão de Projetos',\n",
       "       ' Conceito de Políticas Públicas. Tipos de políticas públicas (distributivas, regulatórias, etc)'],\n",
       "      dtype=object)"
      ]
     },
     "execution_count": 10,
     "metadata": {},
     "output_type": "execute_result"
    }
   ],
   "source": [
    "dicio[dicio['disciplina']=='adm_geral']['assunto'].unique()"
   ]
  },
  {
   "cell_type": "code",
   "execution_count": null,
   "metadata": {},
   "outputs": [],
   "source": []
  }
 ],
 "metadata": {
  "kernelspec": {
   "display_name": "Python 3.9.5 64-bit",
   "language": "python",
   "name": "python3"
  },
  "language_info": {
   "codemirror_mode": {
    "name": "ipython",
    "version": 3
   },
   "file_extension": ".py",
   "mimetype": "text/x-python",
   "name": "python",
   "nbconvert_exporter": "python",
   "pygments_lexer": "ipython3",
   "version": "3.9.5"
  },
  "orig_nbformat": 4,
  "vscode": {
   "interpreter": {
    "hash": "f6c4ebda296564d1739a6b37a84f96688b2678a3e5595cf1bd4b746c0bdf52c7"
   }
  }
 },
 "nbformat": 4,
 "nbformat_minor": 2
}
